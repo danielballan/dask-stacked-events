{
 "cells": [
  {
   "cell_type": "code",
   "execution_count": 1,
   "metadata": {},
   "outputs": [],
   "source": [
    "import h5py\n",
    "import numpy as np\n",
    "import dask.array as da\n",
    "from bluesky import RunEngine\n",
    "from databroker import Broker\n",
    "db = Broker.named('temp')\n",
    "RE = RunEngine({})\n",
    "RE.subscribe(db.insert)\n",
    "\n",
    "from bluesky.plans import count\n",
    "from ophyd.sim import SynSignalWithRegistry"
   ]
  },
  {
   "cell_type": "code",
   "execution_count": 2,
   "metadata": {},
   "outputs": [],
   "source": [
    "def generate_data():\n",
    "    return np.ones((10, 10))\n",
    "\n",
    "def write_hdf5(filepath, arr):\n",
    "    with h5py.File(filepath, 'w') as f:\n",
    "        f.create_dataset('data', data=arr)\n",
    "\n",
    "det = SynSignalWithRegistry(name='det', func=generate_data, save_func=write_hdf5, save_ext='h5', save_spec='HDF5_DEMO')\n",
    "\n",
    "class DaskHandler:\n",
    "    def __init__(self, filepath, root=''):\n",
    "        self.filepath = filepath\n",
    "        self._dset = h5py.File('{}_0.h5'.format(self.filepath), 'r')['data']  # lazy\n",
    "    \n",
    "    def __call__(self, index):\n",
    "        return da.from_array(self._dset, chunks=(10, 10))  # still lazy\n",
    "        \n",
    "db.reg.register_handler('HDF5_DEMO', DaskHandler)"
   ]
  },
  {
   "cell_type": "code",
   "execution_count": 3,
   "metadata": {},
   "outputs": [
    {
     "name": "stderr",
     "output_type": "stream",
     "text": [
      "/Users/dallan/Documents/Repos/databroker/databroker/assets/core.py:190: UserWarning: Ignoring attempt to insert Datum with duplicate datum_id, assuming that both ophyd and bluesky attempted to insert this document. Remove the Registry (`reg` parameter) from your ophyd instance to remove this warning.\n",
      "  warnings.warn(\"Ignoring attempt to insert Datum with duplicate \"\n",
      "/Users/dallan/Documents/Repos/databroker/databroker/assets/core.py:150: UserWarning: Ignoring attempt to insert Resource with duplicate uid, assuming that both ophyd and bluesky attempted to insert this document. Remove the Registry (`reg` parameter) from your ophyd instance to remove this warning.\n",
      "  warnings.warn(\"Ignoring attempt to insert Resource with duplicate \"\n"
     ]
    },
    {
     "data": {
      "text/plain": [
       "('476d7bf5-5b6d-4848-b742-52b40b8650bd',)"
      ]
     },
     "execution_count": 3,
     "metadata": {},
     "output_type": "execute_result"
    }
   ],
   "source": [
    "RE(count([det], 3))"
   ]
  },
  {
   "cell_type": "code",
   "execution_count": 4,
   "metadata": {},
   "outputs": [],
   "source": [
    "h = db[-1]\n",
    "img = da.stack(list(h.data('det')))"
   ]
  },
  {
   "cell_type": "code",
   "execution_count": 10,
   "metadata": {},
   "outputs": [
    {
     "data": {
      "text/plain": [
       "dask.array<stack, shape=(3, 10, 10), dtype=float64, chunksize=(1, 10, 10)>"
      ]
     },
     "execution_count": 10,
     "metadata": {},
     "output_type": "execute_result"
    }
   ],
   "source": [
    "# No bytes have been read from disk yet.\n",
    "img"
   ]
  },
  {
   "cell_type": "code",
   "execution_count": 5,
   "metadata": {},
   "outputs": [
    {
     "data": {
      "text/plain": [
       "1.0"
      ]
     },
     "execution_count": 5,
     "metadata": {},
     "output_type": "execute_result"
    }
   ],
   "source": [
    "# Finally, load the data (in a streaming fashion) and compute the min.\n",
    "img.min().compute()"
   ]
  },
  {
   "cell_type": "code",
   "execution_count": 7,
   "metadata": {},
   "outputs": [
    {
     "data": {
      "text/plain": [
       "dask.array<transpose, shape=(10, 10, 3), dtype=float64, chunksize=(10, 10, 1)>"
      ]
     },
     "execution_count": 7,
     "metadata": {},
     "output_type": "execute_result"
    }
   ],
   "source": [
    "img.transpose()"
   ]
  },
  {
   "cell_type": "code",
   "execution_count": null,
   "metadata": {},
   "outputs": [],
   "source": []
  }
 ],
 "metadata": {
  "kernelspec": {
   "display_name": "Python 3",
   "language": "python",
   "name": "python3"
  },
  "language_info": {
   "codemirror_mode": {
    "name": "ipython",
    "version": 3
   },
   "file_extension": ".py",
   "mimetype": "text/x-python",
   "name": "python",
   "nbconvert_exporter": "python",
   "pygments_lexer": "ipython3",
   "version": "3.6.4"
  }
 },
 "nbformat": 4,
 "nbformat_minor": 2
}
